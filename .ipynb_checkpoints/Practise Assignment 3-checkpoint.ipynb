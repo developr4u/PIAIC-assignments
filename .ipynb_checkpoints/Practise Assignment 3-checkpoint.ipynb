{
 "cells": [
  {
   "cell_type": "markdown",
   "metadata": {},
   "source": [
    "# Q1:"
   ]
  },
  {
   "cell_type": "markdown",
   "metadata": {},
   "source": [
    "Think of at least three kinds of your favorite pizza. Store these pizza names in a list, and then use a for loop to print the name of each pizza."
   ]
  },
  {
   "cell_type": "code",
   "execution_count": 1,
   "metadata": {},
   "outputs": [],
   "source": [
    "names = ['Fajita','Chicken Tikka','Super Sicilian']"
   ]
  },
  {
   "cell_type": "code",
   "execution_count": 2,
   "metadata": {},
   "outputs": [
    {
     "name": "stdout",
     "output_type": "stream",
     "text": [
      "Fajita\n",
      "Chicken Tikka\n",
      "Super Sicilian\n"
     ]
    }
   ],
   "source": [
    "for i in names:\n",
    "    print(i)"
   ]
  },
  {
   "cell_type": "code",
   "execution_count": null,
   "metadata": {},
   "outputs": [],
   "source": []
  },
  {
   "cell_type": "markdown",
   "metadata": {},
   "source": [
    "# Q2"
   ]
  },
  {
   "cell_type": "markdown",
   "metadata": {},
   "source": [
    "Start with your last question , Modify your for loop to print a sentence using the name of the pizza\n",
    "instead of printing just the name of the pizza. For each pizza you should\n",
    "have one line of output containing a simple statement like I like pepperoni\n",
    "pizza."
   ]
  },
  {
   "cell_type": "code",
   "execution_count": 3,
   "metadata": {},
   "outputs": [
    {
     "name": "stdout",
     "output_type": "stream",
     "text": [
      "my friend always eat Fajita when we go for pizza party\n",
      "when i go for Pizza party Chicken Tikka is must for me \n",
      "i think the speciality of star pizza is Super Sicilian \n"
     ]
    }
   ],
   "source": [
    "for i in names:\n",
    "    if i == 'Chicken Tikka':\n",
    "        print(f'when i go for Pizza party {i} is must for me ')\n",
    "    elif i == 'Fajita':\n",
    "        print(f'my friend always eat {i} when we go for pizza party')\n",
    "    else:\n",
    "        print(f'i think the speciality of star pizza is {i} ')"
   ]
  },
  {
   "cell_type": "code",
   "execution_count": null,
   "metadata": {},
   "outputs": [],
   "source": []
  },
  {
   "cell_type": "code",
   "execution_count": null,
   "metadata": {},
   "outputs": [],
   "source": []
  },
  {
   "cell_type": "markdown",
   "metadata": {},
   "source": [
    "# Q3:"
   ]
  },
  {
   "cell_type": "markdown",
   "metadata": {},
   "source": [
    "Use a for loop to print the numbers from 1 to 20,\n",
    "inclusive."
   ]
  },
  {
   "cell_type": "code",
   "execution_count": 4,
   "metadata": {},
   "outputs": [
    {
     "name": "stdout",
     "output_type": "stream",
     "text": [
      "[1, 2, 3, 4, 5, 6, 7, 8, 9, 10, 11, 12, 13, 14, 15, 16, 17, 18, 19, 20]\n"
     ]
    }
   ],
   "source": [
    "newlist = [i for i in range(1,21)]\n",
    "print(newlist)"
   ]
  },
  {
   "cell_type": "code",
   "execution_count": null,
   "metadata": {},
   "outputs": [],
   "source": []
  },
  {
   "cell_type": "code",
   "execution_count": null,
   "metadata": {},
   "outputs": [],
   "source": []
  },
  {
   "cell_type": "markdown",
   "metadata": {},
   "source": [
    "# Q4:"
   ]
  },
  {
   "cell_type": "markdown",
   "metadata": {},
   "source": [
    "Use the third argument of the range() function to make a list\n",
    "of the odd numbers from 1 to 20. Use a for loop to print each number."
   ]
  },
  {
   "cell_type": "code",
   "execution_count": 5,
   "metadata": {},
   "outputs": [
    {
     "name": "stdout",
     "output_type": "stream",
     "text": [
      "[1, 3, 5, 7, 9, 11, 13, 15, 17, 19]\n"
     ]
    }
   ],
   "source": [
    "odd_number = [i for i in range(1,21,2)]\n",
    "print(odd_number)"
   ]
  },
  {
   "cell_type": "code",
   "execution_count": null,
   "metadata": {},
   "outputs": [],
   "source": []
  },
  {
   "cell_type": "code",
   "execution_count": null,
   "metadata": {},
   "outputs": [],
   "source": []
  },
  {
   "cell_type": "markdown",
   "metadata": {},
   "source": [
    "# Q5:"
   ]
  },
  {
   "cell_type": "markdown",
   "metadata": {},
   "source": [
    "Make a list of the multiples of 3 from 3 to 30. Use a for loop to\n",
    "print the numbers in your list."
   ]
  },
  {
   "cell_type": "code",
   "execution_count": 6,
   "metadata": {},
   "outputs": [
    {
     "name": "stdout",
     "output_type": "stream",
     "text": [
      "[9, 12, 15, 18, 21, 24, 27, 30, 33, 36, 39, 42, 45, 48, 51, 54, 57, 60, 63, 66, 69, 72, 75, 78, 81, 84, 87, 90, 93, 96]\n"
     ]
    }
   ],
   "source": [
    "multiples = []\n",
    "for i in range(3,33):\n",
    "    multiples.append(i*3)\n",
    "print(multiples)    "
   ]
  },
  {
   "cell_type": "code",
   "execution_count": null,
   "metadata": {},
   "outputs": [],
   "source": []
  },
  {
   "cell_type": "code",
   "execution_count": null,
   "metadata": {},
   "outputs": [],
   "source": []
  },
  {
   "cell_type": "code",
   "execution_count": null,
   "metadata": {},
   "outputs": [],
   "source": []
  },
  {
   "cell_type": "markdown",
   "metadata": {},
   "source": [
    "# Q6:"
   ]
  },
  {
   "cell_type": "markdown",
   "metadata": {},
   "source": [
    "A number raised to the third power is called a cube. For example,\n",
    "the cube of 2 is written as 2**3 in Python. Make a list of the first 10 cubes (that\n",
    "is, the cube of each integer from 1 through 10), and use a for loop to print out\n",
    "the value of each cube"
   ]
  },
  {
   "cell_type": "code",
   "execution_count": 7,
   "metadata": {},
   "outputs": [
    {
     "name": "stdout",
     "output_type": "stream",
     "text": [
      "cube of 1 is 1\n",
      "cube of 2 is 8\n",
      "cube of 3 is 27\n",
      "cube of 4 is 64\n",
      "cube of 5 is 125\n",
      "cube of 6 is 216\n",
      "cube of 7 is 343\n",
      "cube of 8 is 512\n",
      "cube of 9 is 729\n",
      "cube of 10 is 1000\n"
     ]
    }
   ],
   "source": [
    "for i in range(1,11):\n",
    "    print(f'cube of {i} is {i**3}')"
   ]
  },
  {
   "cell_type": "code",
   "execution_count": null,
   "metadata": {},
   "outputs": [],
   "source": []
  },
  {
   "cell_type": "code",
   "execution_count": null,
   "metadata": {},
   "outputs": [],
   "source": []
  },
  {
   "cell_type": "code",
   "execution_count": null,
   "metadata": {},
   "outputs": [],
   "source": []
  },
  {
   "cell_type": "markdown",
   "metadata": {},
   "source": [
    "# Q7:"
   ]
  },
  {
   "cell_type": "markdown",
   "metadata": {},
   "source": [
    "###### Make a python program that conatains your nine favourite dishes in a list called foods.\n",
    "\n",
    "###### Print the message, The first three items in the list are:. \n",
    "###### Then use a slice to print the first three items from that program’s list.\n",
    "\n",
    "###### Print the message, Three items from the middle of the list are:\n",
    "###### Use a slice to print three items from the middle of the list.\n",
    "\n",
    "###### Print the message, The last three items in the list are:\n",
    "###### Use a slice to print the last three items in the list."
   ]
  },
  {
   "cell_type": "code",
   "execution_count": 8,
   "metadata": {},
   "outputs": [],
   "source": [
    "foods = ['mutton kunna','koila karahi','mutton ribs','reshmi kabab','sajji','jalapeno burger','prown karahi','heera fish','biryani']"
   ]
  },
  {
   "cell_type": "code",
   "execution_count": 9,
   "metadata": {},
   "outputs": [
    {
     "name": "stdout",
     "output_type": "stream",
     "text": [
      "The first three items in the list are: ['mutton kunna', 'koila karahi', 'mutton ribs'] \n",
      "The items from the middle of the list are: ['reshmi kabab', 'sajji', 'jalapeno burger']\n",
      "The last three items in the list are: ['prown karahi', 'heera fish', 'biryani']\n"
     ]
    }
   ],
   "source": [
    "print(f\"The first three items in the list are: {foods[:3]} \")\n",
    "print(f\"The items from the middle of the list are: {foods[3:6]}\")\n",
    "print(f\"The last three items in the list are: {foods[6:]}\")"
   ]
  },
  {
   "cell_type": "code",
   "execution_count": null,
   "metadata": {},
   "outputs": [],
   "source": []
  },
  {
   "cell_type": "code",
   "execution_count": null,
   "metadata": {},
   "outputs": [],
   "source": []
  },
  {
   "cell_type": "code",
   "execution_count": null,
   "metadata": {},
   "outputs": [],
   "source": []
  },
  {
   "cell_type": "code",
   "execution_count": null,
   "metadata": {},
   "outputs": [],
   "source": []
  },
  {
   "cell_type": "code",
   "execution_count": null,
   "metadata": {},
   "outputs": [],
   "source": []
  },
  {
   "cell_type": "markdown",
   "metadata": {},
   "source": [
    "# Q8:"
   ]
  },
  {
   "cell_type": "markdown",
   "metadata": {},
   "source": [
    "### Start with your program from your last Question8.\n",
    "###### Make a copy of the list of foods, and call it friend_foods.\n",
    "###### Then, do the following:\n",
    "######    Add a new dish to the original list.\n",
    "######    Add a different dish to the list friend_foodss.\n",
    "######    Prove that you have two separate lists. \n",
    "###### Print the message, My favorite pizzas are: and then use a for loop to print the first list. \n",
    "###### Print the message,\n",
    "###### My friend’s favorite foods are:, and then use a for loop to print the second list.\n",
    "    \n",
    "##### NOTE: Make sure each new dish is stored in the appropriate list."
   ]
  },
  {
   "cell_type": "code",
   "execution_count": 10,
   "metadata": {},
   "outputs": [],
   "source": [
    "friend_foods = foods.copy()"
   ]
  },
  {
   "cell_type": "code",
   "execution_count": 11,
   "metadata": {},
   "outputs": [
    {
     "name": "stdout",
     "output_type": "stream",
     "text": [
      "['mutton kunna', 'koila karahi', 'mutton ribs', 'reshmi kabab', 'sajji', 'jalapeno burger', 'prown karahi', 'heera fish', 'biryani', 'makhni handi']\n",
      "['mutton kunna', 'koila karahi', 'mutton ribs', 'reshmi kabab', 'sajji', 'jalapeno burger', 'prown karahi', 'heera fish', 'biryani', 'ande wala burger']\n"
     ]
    }
   ],
   "source": [
    "foods.append('makhni handi')\n",
    "friend_foods.append('ande wala burger')\n",
    "print(foods)\n",
    "print(friend_foods)"
   ]
  },
  {
   "cell_type": "code",
   "execution_count": 13,
   "metadata": {},
   "outputs": [
    {
     "name": "stdout",
     "output_type": "stream",
     "text": [
      "my favourite dishes are ['mutton kunna', 'koila karahi', 'mutton ribs', 'reshmi kabab', 'sajji', 'jalapeno burger', 'prown karahi', 'heera fish', 'biryani', 'makhni handi']\n"
     ]
    }
   ],
   "source": [
    "print(f\"my favourite dishes are {[i for i in foods]}\")"
   ]
  },
  {
   "cell_type": "code",
   "execution_count": 14,
   "metadata": {},
   "outputs": [
    {
     "name": "stdout",
     "output_type": "stream",
     "text": [
      "my friends favourite foods are ['mutton kunna', 'koila karahi', 'mutton ribs', 'reshmi kabab', 'sajji', 'jalapeno burger', 'prown karahi', 'heera fish', 'biryani', 'ande wala burger']\n"
     ]
    }
   ],
   "source": [
    "print(f'my friends favourite foods are {[i for i in friend_foods]}')"
   ]
  },
  {
   "cell_type": "code",
   "execution_count": null,
   "metadata": {},
   "outputs": [],
   "source": []
  },
  {
   "cell_type": "code",
   "execution_count": null,
   "metadata": {},
   "outputs": [],
   "source": [
    " "
   ]
  },
  {
   "cell_type": "code",
   "execution_count": null,
   "metadata": {},
   "outputs": [],
   "source": []
  },
  {
   "cell_type": "markdown",
   "metadata": {},
   "source": [
    "# Q9:"
   ]
  },
  {
   "cell_type": "markdown",
   "metadata": {},
   "source": [
    "Take a user input from console line.Store it in a variable called Alien_color.\n",
    "\n",
    "If the alien’s color is red, print a statement that the player just earned 5 points for shooting the alien.\n",
    "\n",
    "If the alien’s color isn’t green, print a statement that the player just earned 10 points.\n",
    "\n",
    "If the alien's color isn't red or green , print a statment :, Alien is no more....."
   ]
  },
  {
   "cell_type": "code",
   "execution_count": 22,
   "metadata": {},
   "outputs": [
    {
     "name": "stdout",
     "output_type": "stream",
     "text": [
      "Enter the aliens color: red\n",
      "Player just earned 5 points for shooting the alien\n"
     ]
    }
   ],
   "source": [
    "Alien_color = input(\"Enter the aliens color: \").lower()\n",
    "if Alien_color == 'red':\n",
    "    print('Player just earned 5 points for shooting the alien')\n",
    "elif Alien_color == 'green':\n",
    "    print('Player just earned 10 points for shooting the alien')\n",
    "else:\n",
    "    print(\"Alien is no more\")"
   ]
  },
  {
   "cell_type": "code",
   "execution_count": 23,
   "metadata": {},
   "outputs": [
    {
     "name": "stdout",
     "output_type": "stream",
     "text": [
      "Enter the aliens color: green\n",
      "Player just earned 10 points for shooting the alien\n"
     ]
    }
   ],
   "source": [
    "Alien_color = input(\"Enter the aliens color: \").lower()\n",
    "if Alien_color == 'red':\n",
    "    print('Player just earned 5 points for shooting the alien')\n",
    "elif Alien_color == 'green':\n",
    "    print('Player just earned 10 points for shooting the alien')\n",
    "else:\n",
    "    print(\"Alien is no more\")"
   ]
  },
  {
   "cell_type": "code",
   "execution_count": 42,
   "metadata": {},
   "outputs": [
    {
     "name": "stdout",
     "output_type": "stream",
     "text": [
      "Enter the aliens color: Black\n",
      "Alien is no more\n"
     ]
    }
   ],
   "source": [
    "Alien_color = input(\"Enter the aliens color: \").lower()\n",
    "if Alien_color == 'red':\n",
    "    print('Player just earned 5 points for shooting the alien')\n",
    "elif Alien_color == 'green':\n",
    "    print('Player just earned 10 points for shooting the alien')\n",
    "else:\n",
    "    print(\"Alien is no more\")"
   ]
  },
  {
   "cell_type": "code",
   "execution_count": null,
   "metadata": {},
   "outputs": [],
   "source": []
  },
  {
   "cell_type": "markdown",
   "metadata": {},
   "source": [
    "# Q10:"
   ]
  },
  {
   "cell_type": "markdown",
   "metadata": {},
   "source": [
    "Write an if-elif-else chain that determines a person’s\n",
    "stage of life. Set a value for the variable age, and then:\n",
    "    \n",
    "•\t If the person is less than 2 years old, print a message that the person is a baby.\n",
    "\n",
    "•\t If the person is at least 2 years old but less than 4, print a message that the person is a toddler.\n",
    "\n",
    "•\t If the person is at least 4 years old but less than 13, print a message that the person is a kid.\n",
    "\n",
    "•\t If the person is at least 13 years old but less than 20, print a message that the person is a teenager.\n",
    "\n",
    "•\t If the person is at least 20 years old but less than 65, print a message that the person is an adult.\n",
    "\n",
    "•\t If the person is age 65 or older, print a message that the person is an elder."
   ]
  },
  {
   "cell_type": "code",
   "execution_count": 36,
   "metadata": {},
   "outputs": [
    {
     "name": "stdout",
     "output_type": "stream",
     "text": [
      "Enter Person's age: 1.5\n",
      "Person is a baby\n"
     ]
    }
   ],
   "source": [
    "age = float(input(\"Enter Person's age: \"))\n",
    "if age < 2:\n",
    "    print('Person is a baby')\n",
    "elif age < 4 and age >= 2:\n",
    "    print('Person is a toddler')\n",
    "elif age < 13 and age >= 4:\n",
    "    print('Person is a kid')\n",
    "elif age < 20 and age >= 13:\n",
    "    print('Person is a teenager')\n",
    "elif age < 65 and age >= 20:\n",
    "    print('Person is an adult')\n",
    "else:\n",
    "    print('Person is an elder')"
   ]
  },
  {
   "cell_type": "code",
   "execution_count": 37,
   "metadata": {},
   "outputs": [
    {
     "name": "stdout",
     "output_type": "stream",
     "text": [
      "Enter Person's age: 2\n",
      "Person is a toddler\n"
     ]
    }
   ],
   "source": [
    "age = float(input(\"Enter Person's age: \"))\n",
    "if age < 2:\n",
    "    print('Person is a baby')\n",
    "elif age < 4 and age >= 2:\n",
    "    print('Person is a toddler')\n",
    "elif age < 13 and age >= 4:\n",
    "    print('Person is a kid')\n",
    "elif age < 20 and age >= 13:\n",
    "    print('Person is a teenager')\n",
    "elif age < 65 and age >= 20:\n",
    "    print('Person is an adult')\n",
    "else:\n",
    "    print('Person is an elder')"
   ]
  },
  {
   "cell_type": "code",
   "execution_count": 38,
   "metadata": {},
   "outputs": [
    {
     "name": "stdout",
     "output_type": "stream",
     "text": [
      "Enter Person's age: 13\n",
      "Person is a teenager\n"
     ]
    }
   ],
   "source": [
    "age = float(input(\"Enter Person's age: \"))\n",
    "if age < 2:\n",
    "    print('Person is a baby')\n",
    "elif age < 4 and age >= 2:\n",
    "    print('Person is a toddler')\n",
    "elif age < 13 and age >= 4:\n",
    "    print('Person is a kid')\n",
    "elif age < 20 and age >= 13:\n",
    "    print('Person is a teenager')\n",
    "elif age < 65 and age >= 20:\n",
    "    print('Person is an adult')\n",
    "else:\n",
    "    print('Person is an elder')"
   ]
  },
  {
   "cell_type": "code",
   "execution_count": 39,
   "metadata": {},
   "outputs": [
    {
     "name": "stdout",
     "output_type": "stream",
     "text": [
      "Enter Person's age: 20\n",
      "Person is an adult\n"
     ]
    }
   ],
   "source": [
    "age = float(input(\"Enter Person's age: \"))\n",
    "if age < 2:\n",
    "    print('Person is a baby')\n",
    "elif age < 4 and age >= 2:\n",
    "    print('Person is a toddler')\n",
    "elif age < 13 and age >= 4:\n",
    "    print('Person is a kid')\n",
    "elif age < 20 and age >= 13:\n",
    "    print('Person is a teenager')\n",
    "elif age < 65 and age >= 20:\n",
    "    print('Person is an adult')\n",
    "else:\n",
    "    print('Person is an elder')"
   ]
  },
  {
   "cell_type": "code",
   "execution_count": 41,
   "metadata": {},
   "outputs": [
    {
     "name": "stdout",
     "output_type": "stream",
     "text": [
      "Enter Person's age: 66\n",
      "Person is an elder\n"
     ]
    }
   ],
   "source": [
    "age = float(input(\"Enter Person's age: \"))\n",
    "if age < 2:\n",
    "    print('Person is a baby')\n",
    "elif age < 4 and age >= 2:\n",
    "    print('Person is a toddler')\n",
    "elif age < 13 and age >= 4:\n",
    "    print('Person is a kid')\n",
    "elif age < 20 and age >= 13:\n",
    "    print('Person is a teenager')\n",
    "elif age < 65 and age >= 20:\n",
    "    print('Person is an adult')\n",
    "else:\n",
    "    print('Person is an elder')"
   ]
  },
  {
   "cell_type": "code",
   "execution_count": null,
   "metadata": {},
   "outputs": [],
   "source": []
  },
  {
   "cell_type": "markdown",
   "metadata": {},
   "source": [
    "# Q11:"
   ]
  },
  {
   "cell_type": "markdown",
   "metadata": {},
   "source": [
    "Do the following to create a program that simulates how websites ensure that everyone has a unique username.\n",
    "\n",
    "•\t Make a list of five or more usernames called current_users.\n",
    "\n",
    "•\t Make another list of five usernames called new_users. \n",
    "Make sure one or two of the new usernames are also in the current_users list.\n",
    "\n",
    "•\t Loop through the new_users list to see if each new username has already been used. \n",
    "If it has, print a message that the person will need to enter a new username. \n",
    "If a username has not been used, print a message saying that the username is available.\n",
    "\n",
    "•\t Make sure your comparison is case insensitive. If 'John' has been used, 'JOHN' should not be accepted."
   ]
  },
  {
   "cell_type": "code",
   "execution_count": 44,
   "metadata": {},
   "outputs": [],
   "source": [
    "current_users = ['p_coder','c_coder','cpp_coder','j_coder','js_coder']\n",
    "new_users = []"
   ]
  },
  {
   "cell_type": "code",
   "execution_count": 45,
   "metadata": {},
   "outputs": [
    {
     "name": "stdout",
     "output_type": "stream",
     "text": [
      "Enter username: p_coder\n",
      "Username already exist\n"
     ]
    }
   ],
   "source": [
    "new_users = input(\"Enter username: \").lower()\n",
    "if new_users in current_users:\n",
    "    print('Username already exist')\n",
    "else:\n",
    "    current_users.append(new_users)\n",
    "    print(\"Successfull\")\n",
    "    "
   ]
  },
  {
   "cell_type": "code",
   "execution_count": 46,
   "metadata": {},
   "outputs": [
    {
     "name": "stdout",
     "output_type": "stream",
     "text": [
      "Enter username: j_coder\n",
      "Username already exist\n"
     ]
    }
   ],
   "source": [
    "new_users = input(\"Enter username: \").lower()\n",
    "if new_users in current_users:\n",
    "    print('Username already exist')\n",
    "else:\n",
    "    current_users.append(new_users)\n",
    "    print(\"Successfull\")\n",
    "    "
   ]
  },
  {
   "cell_type": "code",
   "execution_count": 47,
   "metadata": {},
   "outputs": [
    {
     "name": "stdout",
     "output_type": "stream",
     "text": [
      "Enter username: java_coder\n",
      "Successfull\n"
     ]
    }
   ],
   "source": [
    "new_users = input(\"Enter username: \").lower()\n",
    "if new_users in current_users:\n",
    "    print('Username already exist')\n",
    "else:\n",
    "    current_users.append(new_users)\n",
    "    print(\"Successfull\")\n",
    "    "
   ]
  },
  {
   "cell_type": "code",
   "execution_count": 48,
   "metadata": {},
   "outputs": [
    {
     "name": "stdout",
     "output_type": "stream",
     "text": [
      "Enter username: JAVA_coder\n",
      "Username already exist\n"
     ]
    }
   ],
   "source": [
    "new_users = input(\"Enter username: \").lower()\n",
    "if new_users in current_users:\n",
    "    print('Username already exist')\n",
    "else:\n",
    "    current_users.append(new_users)\n",
    "    print(\"Successfull\")\n",
    "    "
   ]
  },
  {
   "cell_type": "markdown",
   "metadata": {},
   "source": [
    "# Q12:"
   ]
  },
  {
   "cell_type": "markdown",
   "metadata": {},
   "source": [
    "Use a dictionary to store information about a person you know.\n",
    "Store their first name, last name, age, and the city in which they live. \n",
    "You should have keys such as first_name, last_name, age, and city. \n",
    "Print each piece of information stored in your dictionary"
   ]
  },
  {
   "cell_type": "code",
   "execution_count": 67,
   "metadata": {},
   "outputs": [],
   "source": [
    "person = {'first_name':'Sarfaraz','last_name':'Ahmed','age':30,'city':'Karachi'}"
   ]
  },
  {
   "cell_type": "code",
   "execution_count": 68,
   "metadata": {},
   "outputs": [
    {
     "data": {
      "text/plain": [
       "'Ahmed'"
      ]
     },
     "execution_count": 68,
     "metadata": {},
     "output_type": "execute_result"
    }
   ],
   "source": [
    "person['last_name']"
   ]
  },
  {
   "cell_type": "code",
   "execution_count": 69,
   "metadata": {},
   "outputs": [
    {
     "name": "stdout",
     "output_type": "stream",
     "text": [
      "first_name\n",
      "last_name\n",
      "age\n",
      "city\n"
     ]
    }
   ],
   "source": [
    "for keys in person:\n",
    "    print(keys)"
   ]
  },
  {
   "cell_type": "code",
   "execution_count": 70,
   "metadata": {},
   "outputs": [
    {
     "name": "stdout",
     "output_type": "stream",
     "text": [
      "=> Sarfaraz\n",
      "=> Ahmed\n",
      "=> 30\n",
      "=> Karachi\n"
     ]
    }
   ],
   "source": [
    "for key,val in person.items():\n",
    "    print('=>', val)"
   ]
  },
  {
   "cell_type": "markdown",
   "metadata": {},
   "source": [
    "# Q13:"
   ]
  },
  {
   "cell_type": "markdown",
   "metadata": {},
   "source": [
    "Starts with your last question 12 , loop through the dictionary’s keys and values.\n",
    "When you’re sure that your loop works, add five more Python terms to your\n",
    "dictionary . When you run your program again, these new words and meanings\n",
    "should automatically be included in the output."
   ]
  },
  {
   "cell_type": "code",
   "execution_count": 71,
   "metadata": {},
   "outputs": [
    {
     "name": "stdout",
     "output_type": "stream",
     "text": [
      "first_name => Sarfaraz\n",
      "last_name => Ahmed\n",
      "age => 30\n",
      "city => Karachi\n"
     ]
    }
   ],
   "source": [
    "for key,val in person.items():\n",
    "    print(key,'=>',val)"
   ]
  },
  {
   "cell_type": "code",
   "execution_count": 72,
   "metadata": {},
   "outputs": [],
   "source": [
    "person['passion'] = 'cricket'\n",
    "person['team'] = 'Pakistan'\n",
    "person['speciality'] = 'Wicket Keeper'\n",
    "person['handed'] = 'Right Handed'\n",
    "person['designation'] = 'Captain'"
   ]
  },
  {
   "cell_type": "code",
   "execution_count": 73,
   "metadata": {},
   "outputs": [
    {
     "name": "stdout",
     "output_type": "stream",
     "text": [
      "first_name => Sarfaraz\n",
      "last_name => Ahmed\n",
      "age => 30\n",
      "city => Karachi\n",
      "passion => cricket\n",
      "team => Pakistan\n",
      "speciality => Wicket Keeper\n",
      "handed => Right Handed\n",
      "designation => Captain\n"
     ]
    }
   ],
   "source": [
    "for key,val in person.items():\n",
    "    print(key,'=>',val)"
   ]
  },
  {
   "cell_type": "code",
   "execution_count": null,
   "metadata": {},
   "outputs": [],
   "source": []
  },
  {
   "cell_type": "code",
   "execution_count": null,
   "metadata": {},
   "outputs": [],
   "source": []
  },
  {
   "cell_type": "markdown",
   "metadata": {},
   "source": [
    "# Q14:"
   ]
  },
  {
   "cell_type": "markdown",
   "metadata": {},
   "source": [
    "Make a dictionary containing three major rivers and the country\n",
    "each river runs through. One key-value pair might be 'nile': 'egypt'.\n",
    "    \n",
    "    \n",
    "•\t Use a loop to print a sentence about each river, such as The Nile runs\n",
    "through Egypt.\n",
    "\n",
    "NOTE: use upper case through keys and values."
   ]
  },
  {
   "cell_type": "code",
   "execution_count": 74,
   "metadata": {},
   "outputs": [
    {
     "name": "stdout",
     "output_type": "stream",
     "text": [
      "RHINE runs through SWITZERLAND and its 375km long\n",
      "INDUS runs through PAKISTAN and its the largest in PAKISTAN\n",
      "NILE runs through EGYPT and its 6650km long\n"
     ]
    }
   ],
   "source": [
    "rivers = {'Rhine':'Switzerland','Indus':'Pakistan','nile':'Egypt'}\n",
    "for i,v in rivers.items():\n",
    "    if i == 'Rhine':\n",
    "        print(f\"{i.upper()} runs through {v.upper()} and its 375km long\")\n",
    "    elif i == 'Indus':\n",
    "        print(f\"{i.upper()} runs through {v.upper()} and its the largest in {v.upper()}\")\n",
    "    else:\n",
    "        print(f\"{i.upper()} runs through {v.upper()} and its 6650km long\")"
   ]
  },
  {
   "cell_type": "code",
   "execution_count": null,
   "metadata": {},
   "outputs": [],
   "source": []
  },
  {
   "cell_type": "code",
   "execution_count": null,
   "metadata": {},
   "outputs": [],
   "source": []
  },
  {
   "cell_type": "markdown",
   "metadata": {},
   "source": [
    "# Q15:"
   ]
  },
  {
   "cell_type": "markdown",
   "metadata": {},
   "source": [
    "Make several dictionaries, where the name of each dictionary is the\n",
    "name of a pet. In each dictionary, include the kind of animal and the owner’s\n",
    "name. Store these dictionaries in a list called pets. Next, loop through your list\n",
    "and as you do print everything you know about each pet."
   ]
  },
  {
   "cell_type": "code",
   "execution_count": 93,
   "metadata": {},
   "outputs": [],
   "source": [
    "horse = {'color':'black','owner':'faisal'}\n",
    "cat = {'kind':'persian','owner':'Sunny'}\n",
    "dog = {'kind':'german','owner':'salman'}\n",
    "pigeon = {'kind':'laqwa','owner':'waseem'}\n",
    "pets = [horse,cat,dog,pigeon]\n",
    "names = ['horse','cat','dog','pigeon']\n"
   ]
  },
  {
   "cell_type": "code",
   "execution_count": 97,
   "metadata": {},
   "outputs": [
    {
     "name": "stdout",
     "output_type": "stream",
     "text": [
      "HORSE\n",
      "{'color': 'black', 'owner': 'faisal'}\n",
      "CAT\n",
      "{'kind': 'persian', 'owner': 'Sunny'}\n",
      "DOG\n",
      "{'kind': 'german', 'owner': 'salman'}\n",
      "PIGEON\n",
      "{'kind': 'laqwa', 'owner': 'waseem'}\n"
     ]
    }
   ],
   "source": [
    "for i in names:\n",
    "    print(i.upper())\n",
    "    if i == 'horse':\n",
    "        print(horse)\n",
    "    elif i == 'cat':\n",
    "        print(cat)\n",
    "    elif i == 'dog':\n",
    "        print(dog)\n",
    "    else:\n",
    "        print(pigeon)\n",
    "    \n",
    "    "
   ]
  },
  {
   "cell_type": "code",
   "execution_count": null,
   "metadata": {},
   "outputs": [],
   "source": []
  }
 ],
 "metadata": {
  "kernelspec": {
   "display_name": "Python 3",
   "language": "python",
   "name": "python3"
  },
  "language_info": {
   "codemirror_mode": {
    "name": "ipython",
    "version": 3
   },
   "file_extension": ".py",
   "mimetype": "text/x-python",
   "name": "python",
   "nbconvert_exporter": "python",
   "pygments_lexer": "ipython3",
   "version": "3.7.1"
  }
 },
 "nbformat": 4,
 "nbformat_minor": 2
}
