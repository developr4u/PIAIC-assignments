{
 "cells": [
  {
   "cell_type": "markdown",
   "metadata": {},
   "source": [
    "## 1. Calculate Area of a Circle"
   ]
  },
  {
   "cell_type": "markdown",
   "metadata": {},
   "source": [
    "#### Write a Python program which accepts the radius of a circle from the user and compute the area.\n",
    "###### Program Console Sample Output 1:\n",
    "###### Input Radius: 0.5\n",
    "###### Area of Circle with radius 0.5 is 0.7853981634"
   ]
  },
  {
   "cell_type": "code",
   "execution_count": 18,
   "metadata": {},
   "outputs": [
    {
     "name": "stdout",
     "output_type": "stream",
     "text": [
      "Enter value of radius:0.5\n",
      "0.785\n"
     ]
    }
   ],
   "source": [
    "def circle_area():\n",
    "    r = float(input(\"Enter value of radius:\")) \n",
    "    area = 3.14*(r**2)\n",
    "    return area\n",
    "\n",
    "print(circle_area())\n",
    "    "
   ]
  },
  {
   "cell_type": "markdown",
   "metadata": {},
   "source": [
    "## 2. Check Number either positive, negative or zero"
   ]
  },
  {
   "cell_type": "markdown",
   "metadata": {},
   "source": [
    "#### Write a Python program to check if a number is positive, negative or zero\n",
    "###### Program Console Sample Output 1:\n",
    "###### Enter Number: -1\n",
    "##### Negative Number Entered\n",
    "###### Program Console Sample Output 2:\n",
    "##### Integer: 3\n",
    "##### Positive Number Entered\n",
    "###### Program Console Sample Output 3:\n",
    "##### Integer: 0\n",
    "###### Zero Entered"
   ]
  },
  {
   "cell_type": "code",
   "execution_count": 10,
   "metadata": {},
   "outputs": [
    {
     "name": "stdout",
     "output_type": "stream",
     "text": [
      "Enter a number to check:-1\n",
      "Negative Number Entered\n"
     ]
    }
   ],
   "source": [
    "def check_number():\n",
    "    number = int(input(\"Enter a number to check:\"))\n",
    "    if number == 0:\n",
    "        print(\"Zero Entered\")\n",
    "    elif number < 0:\n",
    "        print(\"Negative Number Entered\")\n",
    "    else:\n",
    "        print(\"Positive Number Entered\")\n",
    "    \n",
    "check_number()        "
   ]
  },
  {
   "cell_type": "code",
   "execution_count": 11,
   "metadata": {},
   "outputs": [
    {
     "name": "stdout",
     "output_type": "stream",
     "text": [
      "Enter a number to check:3\n",
      "Positive Number Entered\n"
     ]
    }
   ],
   "source": [
    "def check_number():\n",
    "    number = int(input(\"Enter a number to check:\"))\n",
    "    if number == 0:\n",
    "        print(\"Zero Entered\")\n",
    "    elif number < 0:\n",
    "        print(\"Negative Number Entered\")\n",
    "    else:\n",
    "        print(\"Positive Number Entered\")\n",
    "    \n",
    "check_number() "
   ]
  },
  {
   "cell_type": "code",
   "execution_count": 12,
   "metadata": {},
   "outputs": [
    {
     "name": "stdout",
     "output_type": "stream",
     "text": [
      "Enter a number to check:0\n",
      "Zero Entered\n"
     ]
    }
   ],
   "source": [
    "def check_number():\n",
    "    number = int(input(\"Enter a number to check:\"))\n",
    "    if number == 0:\n",
    "        print(\"Zero Entered\")\n",
    "    elif number < 0:\n",
    "        print(\"Negative Number Entered\")\n",
    "    else:\n",
    "        print(\"Positive Number Entered\")\n",
    "    \n",
    "check_number() "
   ]
  },
  {
   "cell_type": "markdown",
   "metadata": {},
   "source": [
    "## 3. Divisibility Check of two numbers"
   ]
  },
  {
   "cell_type": "markdown",
   "metadata": {},
   "source": [
    "#### Write a Python program to check whether a number is completely divisible by another number. Accept two integer values form the user\n",
    "##### Program Console Sample Output 1:\n",
    "###### Enter numerator: 4\n",
    "###### Enter Denominator: 2\n",
    "##### Number 4 is Completely divisible by 2\n",
    "###### Program Console Sample Output 2:\n",
    "##### Enter numerator: 7\n",
    "\n",
    "##### Enter Denominator: 4\n",
    "###### Number 7 is not Completely divisible by 4"
   ]
  },
  {
   "cell_type": "code",
   "execution_count": 16,
   "metadata": {},
   "outputs": [
    {
     "name": "stdout",
     "output_type": "stream",
     "text": [
      "Enter numerator:4\n",
      "Enter denomenator:2\n",
      "Number 4 is Completely divisible by 2\n"
     ]
    }
   ],
   "source": [
    "def check_divisible():\n",
    "    numerator = int(input(\"Enter numerator:\"))\n",
    "    denomenator = int(input(\"Enter denomenator:\"))\n",
    "    \n",
    "    if numerator % denomenator == 0:\n",
    "        print(f\"Number {numerator} is Completely divisible by {denomenator}\")\n",
    "        \n",
    "    else:\n",
    "        print(f\"Number {numerator} is not Completely divisible by {denomenator}\")\n",
    "        \n",
    "check_divisible()        "
   ]
  },
  {
   "cell_type": "code",
   "execution_count": 17,
   "metadata": {},
   "outputs": [
    {
     "name": "stdout",
     "output_type": "stream",
     "text": [
      "Enter numerator:7\n",
      "Enter denomenator:4\n",
      "Number 7 is not Completely divisible by 4\n"
     ]
    }
   ],
   "source": [
    "def check_divisible():\n",
    "    numerator = int(input(\"Enter numerator:\"))\n",
    "    denomenator = int(input(\"Enter denomenator:\"))\n",
    "    \n",
    "    if numerator % denomenator == 0:\n",
    "        print(f\"Number {numerator} is Completely divisible by {denomenator}\")\n",
    "        \n",
    "    else:\n",
    "        print(f\"Number {numerator} is not Completely divisible by {denomenator}\")\n",
    "        \n",
    "check_divisible()   "
   ]
  },
  {
   "cell_type": "markdown",
   "metadata": {},
   "source": [
    "## 4. Calculate Volume of a sphere"
   ]
  },
  {
   "cell_type": "markdown",
   "metadata": {},
   "source": [
    "##### Write a Python program to get the volume of a sphere, please take the radius as input from user"
   ]
  },
  {
   "cell_type": "markdown",
   "metadata": {},
   "source": [
    "##### Program Console Output:\n",
    "##### Enter Radius of Sphere: 1\n",
    "###### Volume of the Sphere with Radius 1 is 4.18"
   ]
  },
  {
   "cell_type": "code",
   "execution_count": 30,
   "metadata": {},
   "outputs": [
    {
     "name": "stdout",
     "output_type": "stream",
     "text": [
      "Enter Radius of Sphere:1\n",
      "Volume of Sphere with Radius 1.0 is 4.1866666666666665\n"
     ]
    }
   ],
   "source": [
    "def sphere_volume():\n",
    "    r =  float(input(\"Enter Radius of Sphere:\"))\n",
    "    s_volume = (4*3.14*(r**3))/3\n",
    "    print(f\"Volume of Sphere with Radius {r} is {s_volume}\")\n",
    "\n",
    "sphere_volume()\n"
   ]
  },
  {
   "cell_type": "markdown",
   "metadata": {},
   "source": [
    "## 5. Copy string n times\n",
    "#### Write a Python program to get a string which is n (non-negative integer) copies of a given string.\n",
    "##### Program Console Output:\n",
    "##### Enter String: Hi\n",
    "###### How many copies of String you need: 4\n",
    "###### 4 Copies of Hi are HiHiHiHi"
   ]
  },
  {
   "cell_type": "code",
   "execution_count": 33,
   "metadata": {},
   "outputs": [
    {
     "name": "stdout",
     "output_type": "stream",
     "text": [
      "Enter String:Hi\n",
      "How many copies of String you need:4\n",
      "4 Copies of Hi are HiHiHiHi\n"
     ]
    }
   ],
   "source": [
    "def string_copies():\n",
    "    string = input(\"Enter String:\")\n",
    "    n = int(input(\"How many copies of String you need:\"))\n",
    "    print(f\"{n} Copies of {string} are {string*n}\")\n",
    "\n",
    "string_copies()"
   ]
  },
  {
   "cell_type": "markdown",
   "metadata": {},
   "source": [
    "## 6. Check if number is Even or Odd\n",
    "### Write a Python program to find whether a given number (accept from the user) is even or odd, print out an appropriate message to the user\n",
    "#### Program Console Output 1:\n",
    "##### Enter Number: 4\n",
    "###### 4 is Even\n",
    "#### Program Console Output 2:\n",
    "##### Enter Number: 9\n",
    "###### 9 is Odd"
   ]
  },
  {
   "cell_type": "code",
   "execution_count": 35,
   "metadata": {},
   "outputs": [
    {
     "name": "stdout",
     "output_type": "stream",
     "text": [
      "Enter Number:4\n",
      "4 is Even\n"
     ]
    }
   ],
   "source": [
    "def even_odd():\n",
    "    number = int(input(\"Enter Number:\"))\n",
    "    if number % 2 == 0:\n",
    "        print(f\"{number} is Even\")\n",
    "    else:\n",
    "        print(f\"{number} is Odd\")\n",
    "\n",
    "even_odd()        "
   ]
  },
  {
   "cell_type": "code",
   "execution_count": 36,
   "metadata": {},
   "outputs": [
    {
     "name": "stdout",
     "output_type": "stream",
     "text": [
      "Enter Number:9\n",
      "9 is Odd\n"
     ]
    }
   ],
   "source": [
    "def even_odd():\n",
    "    number = int(input(\"Enter Number:\"))\n",
    "    if number % 2 == 0:\n",
    "        print(f\"{number} is Even\")\n",
    "    else:\n",
    "        print(f\"{number} is Odd\")\n",
    "\n",
    "even_odd()    "
   ]
  },
  {
   "cell_type": "markdown",
   "metadata": {},
   "source": [
    "## 7. Vowel Tester\n",
    "### Write a Python program to test whether a passed letter is a vowel or not\n",
    "#### Program Console Output 1:\n",
    "##### Enter a character: A\n",
    "###### Letter A is Vowel\n",
    "#### Program Console Output 2:\n",
    "##### Enter a character: e\n",
    "###### Letter e is Vowel\n",
    "#### Program Console Output 2:\n",
    "##### Enter a character: N\n",
    "###### Letter N is not Vowel"
   ]
  },
  {
   "cell_type": "code",
   "execution_count": 42,
   "metadata": {},
   "outputs": [
    {
     "name": "stdout",
     "output_type": "stream",
     "text": [
      "Enter a CharacterA\n",
      "Letter A is Vowel\n"
     ]
    }
   ],
   "source": [
    "def check_vowel():\n",
    "    vowel = ['a','e','i','o','u']\n",
    "    char = input(\"Enter a Character\")\n",
    "    lower = char.lower()\n",
    "    if lower in vowel:\n",
    "        print(f\"Letter {char} is Vowel\")\n",
    "    else:\n",
    "        print(f\"Letter {char} is not Vowel\")\n",
    "        \n",
    "check_vowel()"
   ]
  },
  {
   "cell_type": "code",
   "execution_count": 43,
   "metadata": {},
   "outputs": [
    {
     "name": "stdout",
     "output_type": "stream",
     "text": [
      "Enter a Charactere\n",
      "Letter e is Vowel\n"
     ]
    }
   ],
   "source": [
    "def check_vowel():\n",
    "    vowel = ['a','e','i','o','u']\n",
    "    char = input(\"Enter a Character\")\n",
    "    lower = char.lower()\n",
    "    if lower in vowel:\n",
    "        print(f\"Letter {char} is Vowel\")\n",
    "    else:\n",
    "        print(f\"Letter {char} is not Vowel\")\n",
    "        \n",
    "check_vowel()"
   ]
  },
  {
   "cell_type": "code",
   "execution_count": 44,
   "metadata": {},
   "outputs": [
    {
     "name": "stdout",
     "output_type": "stream",
     "text": [
      "Enter a CharacterN\n",
      "Letter N is not Vowel\n"
     ]
    }
   ],
   "source": [
    "def check_vowel():\n",
    "    vowel = ['a','e','i','o','u']\n",
    "    char = input(\"Enter a Character\")\n",
    "    lower = char.lower()\n",
    "    if lower in vowel:\n",
    "        print(f\"Letter {char} is Vowel\")\n",
    "    else:\n",
    "        print(f\"Letter {char} is not Vowel\")\n",
    "        \n",
    "check_vowel()"
   ]
  },
  {
   "cell_type": "markdown",
   "metadata": {},
   "source": [
    "## 8. Triangle area\n",
    "### Write a Python program that will accept the base and height of a triangle and compute the area\n",
    "###### Reference:\n",
    "https://www.mathgoodies.com/lessons/vol1/area_triangle"
   ]
  },
  {
   "cell_type": "code",
   "execution_count": 47,
   "metadata": {},
   "outputs": [
    {
     "name": "stdout",
     "output_type": "stream",
     "text": [
      "Enter base of Triangle:24\n",
      "Enter height of Triangle16\n",
      "Area of Triangle is 192.0\n"
     ]
    }
   ],
   "source": [
    "def triangle_area():\n",
    "    base = float(input(\"Enter base of Triangle:\"))\n",
    "    height = float(input(\"Enter height of Triangle\"))\n",
    "    t_area = (base * height)/2\n",
    "    print(f\"Area of Triangle is {t_area}\")\n",
    "  \n",
    "triangle_area()"
   ]
  },
  {
   "cell_type": "markdown",
   "metadata": {},
   "source": [
    "## 9. Calculate Interest\n",
    "### Write a Python program to compute the future value of a specified principal amount, rate of interest, and a number of years\n",
    "#### Program Console Sample 1:\n",
    "##### Please enter principal amount: 10000\n",
    "###### Please Enter Rate of interest in %: 0.1\n",
    "###### Enter number of years for investment: 5\n",
    "###### After 5 years your principal amount 10000 over an interest rate of 0.1 % will be 16105.1"
   ]
  },
  {
   "cell_type": "code",
   "execution_count": 48,
   "metadata": {},
   "outputs": [
    {
     "name": "stdout",
     "output_type": "stream",
     "text": [
      "Please enter principal amount:10000\n",
      "Please enter Rate of interest in %:1\n",
      "Enter number of years for investment5\n",
      "After 5.0 years your principal amount 10000.0 over an interest rate of 1.0% will be 16000.0\n"
     ]
    }
   ],
   "source": [
    "def cal_interest():\n",
    "    amount = float(input(\"Please enter principal amount:\"))\n",
    "    rate = float(input(\"Please enter Rate of interest in %:\"))\n",
    "    year = float(input(\"Enter number of years for investment\"))\n",
    "    future_amount = amount + ((amount*rate/100)*12 * year)\n",
    "    print(f\"After {year} years your principal amount {amount} over an interest rate of {rate}% will be {future_amount}\")\n",
    "    \n",
    "cal_interest()"
   ]
  },
  {
   "cell_type": "markdown",
   "metadata": {},
   "source": [
    "## 10. Euclidean distance\n",
    "### write a Python program to compute the distance between the points (x1, y1) and (x2, y2).\n",
    "#### Program Console Sample 1:\n",
    "###### Enter Co-ordinate for x1: 2\n",
    "###### Enter Co-ordinate for x2: 4\n",
    "###### Enter Co-ordinate for y1: 4\n",
    "###### Enter Co-ordinate for y2: 4\n",
    "###### Distance between points (2, 4) and (4, 4) is 2"
   ]
  },
  {
   "cell_type": "markdown",
   "metadata": {},
   "source": [
    "###### Reference:\n",
    "https://en.wikipedia.org/wiki/Euclidean_distance"
   ]
  },
  {
   "cell_type": "code",
   "execution_count": 3,
   "metadata": {},
   "outputs": [
    {
     "name": "stdout",
     "output_type": "stream",
     "text": [
      "Enter Co-ordinate for x1:2\n",
      "Enter Co-ordinate for x2:4\n",
      "Enter Co-ordinate for y1:4\n",
      "Enter Co-ordinate for x2:4\n",
      "Distance between points(2, 4) and (4, 4) is 2.0\n"
     ]
    }
   ],
   "source": [
    "from math import sqrt,pow\n",
    "def euclidean():\n",
    "    x1 = int(input(\"Enter Co-ordinate for x1:\"))\n",
    "    x2 = int(input(\"Enter Co-ordinate for x2:\"))\n",
    "    y1 = int(input(\"Enter Co-ordinate for y1:\"))\n",
    "    y2 = int(input(\"Enter Co-ordinate for x2:\"))\n",
    "    l = sqrt(pow((x1-x2),2)+ pow((y1-y2),2))\n",
    "    print(f\"Distance between points{x1,x2} and {(y1,y2)} is {l}\")\n",
    "    \n",
    "euclidean()"
   ]
  },
  {
   "cell_type": "markdown",
   "metadata": {},
   "source": [
    "## 11. Feet to Centimeter Converter\n",
    "### Write a Python program to convert height in feet to centimetres.\n",
    "##### Program Console Sample 1:\n",
    "###### Enter Height in Feet: 5\n",
    "###### There are 152.4 Cm in 5 ft\n",
    "###### Reference:\n",
    "https://www.rapidtables.com/convert/length/feet-to-cm.html"
   ]
  },
  {
   "cell_type": "code",
   "execution_count": 8,
   "metadata": {},
   "outputs": [
    {
     "name": "stdout",
     "output_type": "stream",
     "text": [
      "Enter Height in Feet:5\n",
      "There are 152.4 Cm in 5 ft\n"
     ]
    }
   ],
   "source": [
    "def feetTocm():\n",
    "    number = (input(\"Enter Height in Feet:\"))\n",
    "    if '.' in number:\n",
    "        feet = number.split(\".\") \n",
    "        f = int(feet[0])*30.48\n",
    "        i = int(feet[1])*2.54\n",
    "        cm = f + i\n",
    "        print(f\"There are {cm} Cm in {number} ft\")\n",
    "    else:\n",
    "        cm = int(number) * 30.48\n",
    "        print(f\"There are {cm} Cm in {number} ft\")\n",
    "        \n",
    "feetTocm()"
   ]
  },
  {
   "cell_type": "markdown",
   "metadata": {},
   "source": [
    "## 12. BMI Calculator\n",
    "### Write a Python program to calculate body mass index\n",
    "##### Program Console Sample 1:\n",
    "###### Enter Height in Cm: 180\n",
    "###### Enter Weight in Kg: 75\n",
    "###### Your BMI is 23.15"
   ]
  },
  {
   "cell_type": "code",
   "execution_count": 9,
   "metadata": {},
   "outputs": [
    {
     "name": "stdout",
     "output_type": "stream",
     "text": [
      "Enter Height in Cm:180\n",
      "Enter Weight in Kg:75\n",
      "your BMI is 23.148148148148145\n"
     ]
    }
   ],
   "source": [
    "def cal_bmi():\n",
    "    height = float(input(\"Enter Height in Cm:\"))\n",
    "    weight = int(input(\"Enter Weight in Kg:\"))\n",
    "    bmi = weight / ((height/100)**2)\n",
    "    print(f\"your BMI is {bmi}\")\n",
    "    \n",
    "cal_bmi()"
   ]
  },
  {
   "cell_type": "markdown",
   "metadata": {},
   "source": [
    "## 13. Sum of n Positive Integers\n",
    "### Write a python program to sum of the first n positive integers\n",
    "#### Program Console Sample 1:\n",
    "###### Enter value of n: 5\n",
    "###### Sum of n Positive integers till 5 is 15"
   ]
  },
  {
   "cell_type": "code",
   "execution_count": 6,
   "metadata": {},
   "outputs": [
    {
     "name": "stdout",
     "output_type": "stream",
     "text": [
      "Enter value of n:5\n",
      "Sum of n positive integers till 5 is 15\n"
     ]
    }
   ],
   "source": [
    "def sumofn():\n",
    "    n = int(input(\"Enter value of n:\"))\n",
    "    m=n\n",
    "    total = 0\n",
    "    while n!=0:\n",
    "        total = total + n\n",
    "        n -= 1\n",
    "    print(f\"Sum of n positive integers till {m} is {total}\")\n",
    "   \n",
    "sumofn()"
   ]
  },
  {
   "cell_type": "markdown",
   "metadata": {},
   "source": [
    "## 14. Digits Sum of a Number\n",
    "### Write a Python program to calculate the sum of the digits in an integer\n",
    "#### Program Console Sample 1:\n",
    "##### Enter a number: 15\n",
    "###### Sum of 1 + 5 is 6\n",
    "#### Program Console Sample 2:\n",
    "##### Enter a number: 1234\n",
    "###### Sum of 1 + 2 + 3 + 4 is 10"
   ]
  },
  {
   "cell_type": "code",
   "execution_count": 10,
   "metadata": {},
   "outputs": [
    {
     "name": "stdout",
     "output_type": "stream",
     "text": [
      "Enter a number:15\n",
      "Sum of number is 6\n"
     ]
    }
   ],
   "source": [
    "def sum():\n",
    "    number = int(input(\"Enter a number:\"))\n",
    "    total = 0\n",
    "    while number>0:\n",
    "        n = number%10\n",
    "        total = n + total \n",
    "        number = number//10\n",
    "    print(f\"Sum of number is {total}\")   \n",
    "    \n",
    "sum()    \n",
    "    "
   ]
  },
  {
   "cell_type": "code",
   "execution_count": 11,
   "metadata": {},
   "outputs": [
    {
     "name": "stdout",
     "output_type": "stream",
     "text": [
      "Enter a number:1234\n",
      "Sum of number is 10\n"
     ]
    }
   ],
   "source": [
    "def sum():\n",
    "    number = int(input(\"Enter a number:\"))\n",
    "    total = 0\n",
    "    while number>0:\n",
    "        n = number%10\n",
    "        total = n + total \n",
    "        number = number//10\n",
    "    print(f\"Sum of number is {total}\")   \n",
    "    \n",
    "sum()  "
   ]
  }
 ],
 "metadata": {
  "kernelspec": {
   "display_name": "Python 3",
   "language": "python",
   "name": "python3"
  },
  "language_info": {
   "codemirror_mode": {
    "name": "ipython",
    "version": 3
   },
   "file_extension": ".py",
   "mimetype": "text/x-python",
   "name": "python",
   "nbconvert_exporter": "python",
   "pygments_lexer": "ipython3",
   "version": "3.7.1"
  }
 },
 "nbformat": 4,
 "nbformat_minor": 2
}
